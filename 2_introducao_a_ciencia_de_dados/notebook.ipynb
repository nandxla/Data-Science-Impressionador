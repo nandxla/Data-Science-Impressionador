{
 "cells": [
  {
   "cell_type": "markdown",
   "metadata": {},
   "source": [
    "# O que é CRISP-DM?\n",
    "Nada mais que um frame-work - um fluxo de trabalho - para trabalhar com data science. Ele diz a ordem de como devemos seguir para termos bons resultados.\n",
    "\n",
    "<img src=\"https://www.datascience-pm.com/wp-content/uploads/2021/02/CRISP-DM.png\">"
   ]
  },
  {
   "cell_type": "markdown",
   "metadata": {},
   "source": [
    "1. Business Understading\n",
    "- Definição do Problema \n",
    "- Alhiamento das Expectativas\n",
    "\n",
    "2. Data Understanding\n",
    "\n",
    "3. Data Preparation\n",
    "\n",
    "4. Modeling \n",
    "- Análise Exploratória\n",
    "- Tratamento dos dados\n",
    "- Definição do Modelo\n",
    "\n",
    "5. Evaluation\n",
    "\n",
    "6. Deployment\n",
    "- Preparar para visualização"
   ]
  },
  {
   "cell_type": "markdown",
   "metadata": {},
   "source": []
  }
 ],
 "metadata": {
  "kernelspec": {
   "display_name": "Python 3.11.0 64-bit",
   "language": "python",
   "name": "python3"
  },
  "language_info": {
   "name": "python",
   "version": "3.11.0"
  },
  "orig_nbformat": 4,
  "vscode": {
   "interpreter": {
    "hash": "c261aea317cc0286b3b3261fbba9abdec21eaa57589985bb7a274bf54d6cc0a7"
   }
  }
 },
 "nbformat": 4,
 "nbformat_minor": 2
}
