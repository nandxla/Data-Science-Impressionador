{
 "cells": [
  {
   "cell_type": "markdown",
   "metadata": {},
   "source": [
    "## O que é Ciência de Dados?\n",
    "É o uso da ciência - Explicar fenômenos através de métodos experimentais - com um determinado conjunto de dados, que, junto com a estatística e a computação, nos ajudam a tirar insights através desses dados.\n",
    "Esses insights podem ser:\n",
    "\n",
    "- Análise histórica de comportamentos.\n",
    "    - Identificar frauda \n",
    "    - Prever desejo de compra\n",
    "    - Prever saída do cliente (churn)\n",
    "- Tomar decisões orientada a dados.\n",
    "- Carros autonomos.\n",
    "\n",
    "Resumindo, ciência de dados é o processo de exploração, manipulação e análise dos dados para descoberta e previsão através dos dados."
   ]
  },
  {
   "cell_type": "markdown",
   "metadata": {},
   "source": [
    "## Pilares da Ciência de Dados\n",
    "Ciência de dados é a junção de 3 principais pilares, são eles:\n",
    "- Tecnologia / Automação\n",
    "- Negócios\n",
    "- Matemática / Estatística\n"
   ]
  },
  {
   "cell_type": "markdown",
   "metadata": {},
   "source": []
  }
 ],
 "metadata": {
  "kernelspec": {
   "display_name": "Python 3.9.13 ('base')",
   "language": "python",
   "name": "python3"
  },
  "language_info": {
   "name": "python",
   "version": "3.9.13"
  },
  "orig_nbformat": 4,
  "vscode": {
   "interpreter": {
    "hash": "f49206fcf84a9145e7e21228cbafa911d1ac18292303b01e865d8267a9c448f7"
   }
  }
 },
 "nbformat": 4,
 "nbformat_minor": 2
}
